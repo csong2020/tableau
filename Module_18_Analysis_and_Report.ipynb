{
 "cells": [
  {
   "attachments": {},
   "cell_type": "markdown",
   "metadata": {},
   "source": [
    "# Visualization 1: Heatmaps"
   ]
  },
  {
   "attachments": {},
   "cell_type": "markdown",
   "metadata": {},
   "source": [
    "On the heatmaps, the red spots indicate more popular areas due to higher numbers of starts and stops. Both the starting and ending locations have similar hotspot locations. Central Park is by far the most popular location for rental bike use. It is recommended that those stations near and inside Central Park are maintained and stocked to avoid customer complaints and ensure casual and membership riders have a smooth experience with the service. Other landmark locations to begin a biking trip include stops such as Broadway, West Street, Liberty Street, and 12th Avenue. It appears that highly populated streets and any stop along the water are locations that are in-demand. The further away from Downtown means less frequent ridership."
   ]
  },
  {
   "attachments": {},
   "cell_type": "markdown",
   "metadata": {},
   "source": [
    "# Visualization 2: Start/End Times & Preferences"
   ]
  },
  {
   "attachments": {},
   "cell_type": "markdown",
   "metadata": {},
   "source": [
    "Moving on to the prefereces section (pie charts), we see that in January the overall count for riders both casual and members are significantly lower than in June and September. This is likely due to the freezing weather experienced in New York during Winter and the inherent safety risks associated with riding in the snow and on icy roads. We can see that this number recovers remarkably in June and September, likely due to the warmer temperatures. Casual riders make up a greater percentage and overall count in the warmer temperatures. In both June and September, riders who are members remain over 2.5 million. Ridership increases slightly in September compared to June, possibly due to the more moderate temperature in the city which makes commutes and recreational rides more attractive. It is not recommended that marketing resources are dedicated in the Winter because low ridership is not due to awareness - the number of riders does not grow by a large margin between the Summer and Fall months."
   ]
  },
  {
   "attachments": {},
   "cell_type": "markdown",
   "metadata": {},
   "source": [
    "Lastly, we shift our focus to start and end times. There are a wide variety of staring and end times, but the top 10 most common ride start times consistently began with 10 minutes to the nearest hour. For example, riders would be much more likely to begin their bike ride at 11:50 than they were to begin at 11:00, which may indicate that riders use the Citi Bikes to get to their destination when they want to arrive on a specific hour. This is further substantiated by the top 10 ending ride times being 50 minutes on the hour as well. Riders typically start or end their rides approximately 10 minutes before the hour strikes. It is recommended that short biking distances to popular areas are monitored using the heatmap and resources are dedicated to improving availability of bikes at those locations."
   ]
  }
 ],
 "metadata": {
  "kernelspec": {
   "display_name": "Python 3",
   "language": "python",
   "name": "python3"
  },
  "language_info": {
   "name": "python",
   "version": "3.10.5 (tags/v3.10.5:f377153, Jun  6 2022, 16:14:13) [MSC v.1929 64 bit (AMD64)]"
  },
  "orig_nbformat": 4,
  "vscode": {
   "interpreter": {
    "hash": "5e15b058017f52be87bff9121870719213bbb4fdd3b70a0f59c715d0f938e87c"
   }
  }
 },
 "nbformat": 4,
 "nbformat_minor": 2
}
